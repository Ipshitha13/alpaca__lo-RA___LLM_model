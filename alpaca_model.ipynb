{
 "cells": [
  {
   "cell_type": "markdown",
   "metadata": {
    "id": "6ExAe1UCWn5E"
   },
   "source": [
    "# Talk to Alpaca-LoRA\n",
    "\n",
    "This notebook contains minimal code for running [Alpaca-LoRA](https://github.com/tloen/alpaca-lora/) for demonstration purposes. Please check the repo for more details."
   ]
  },
  {
   "cell_type": "code",
   "execution_count": 1,
   "metadata": {
    "id": "VucO3HSMoJkz"
   },
   "outputs": [],
   "source": [
    "import torch\n",
    "from peft import PeftModel\n",
    "from transformers import LLaMATokenizer, LLaMAForCausalLM, GenerationConfig\n",
    "\n",
    "tokenizer = LLaMATokenizer.from_pretrained(\"chainyo/alpaca-lora-7b\")\n",
    "model = LLaMAForCausalLM.from_pretrained(\n",
    "    \"chainyo/alpaca-lora-7b\",\n",
    "    load_in_8bit=True,\n",
    "    torch_dtype=torch.float16,\n",
    "    device_map=\"auto\",\n",
    ")\n",
    "model = PeftModel.from_pretrained(model, \"tloen/alpaca-lora-7b\")"
   ]
  },
  {
   "cell_type": "code",
   "execution_count": 2,
   "metadata": {
    "executionInfo": {
     "elapsed": 17,
     "status": "ok",
     "timestamp": 1682099299252,
     "user": {
      "displayName": "Chenji Ipshitha Royal",
      "userId": "15822425796332557872"
     },
     "user_tz": -330
    },
    "id": "w3_lzwcqermJ"
   },
   "outputs": [],
   "source": [
    "def generate_prompt(instruction, input=None):\n",
    "    if input:\n",
    "        return f\"\"\"Below is an instruction that describes a task, paired with an input that provides further context. Write a response that appropriately completes the request.\n",
    "\n",
    "### Instruction:\n",
    "{instruction}\n",
    "\n",
    "### Input:\n",
    "{input}\n",
    "\n",
    "### Response:\"\"\"\n",
    "    else:\n",
    "        return f\"\"\"Below is an instruction that describes a task. Write a response that appropriately completes the request.\n",
    "\n",
    "### Instruction:\n",
    "{instruction}\n",
    "\n",
    "### Response:\"\"\""
   ]
  },
  {
   "cell_type": "code",
   "execution_count": 5,
   "metadata": {
    "executionInfo": {
     "elapsed": 10,
     "status": "ok",
     "timestamp": 1682099299253,
     "user": {
      "displayName": "Chenji Ipshitha Royal",
      "userId": "15822425796332557872"
     },
     "user_tz": -330
    },
    "id": "Egh3beCVRpW5"
   },
   "outputs": [],
   "source": [
    "generation_config = GenerationConfig(\n",
    "    temperature=0.1,\n",
    "    top_p=0.75,\n",
    "    num_beams=4,\n",
    ")\n",
    "\n",
    "def evaluate(instruction, input=None):\n",
    "    prompt = generate_prompt(instruction, input)\n",
    "    inputs = tokenizer(prompt, return_tensors=\"pt\")\n",
    "    input_ids = inputs[\"input_ids\"].cuda()\n",
    "    generation_output = model.generate(\n",
    "        input_ids=input_ids,\n",
    "        generation_config=generation_config,\n",
    "        return_dict_in_generate=True,\n",
    "        output_scores=True,\n",
    "        max_new_tokens=256\n",
    "    )\n",
    "    for s in generation_output.sequences:\n",
    "        output = tokenizer.decode(s)\n",
    "        print(\"Response:\", output.split(\"### Response:\")[1].strip())"
   ]
  },
  {
   "cell_type": "code",
   "execution_count": 7,
   "metadata": {
    "colab": {
     "base_uri": "https://localhost:8080/"
    },
    "executionInfo": {
     "elapsed": 45948,
     "status": "ok",
     "timestamp": 1682099345193,
     "user": {
      "displayName": "Chenji Ipshitha Royal",
      "userId": "15822425796332557872"
     },
     "user_tz": -330
    },
    "id": "uht4w48FMTWo",
    "outputId": "1e45941a-d2cd-4760-e751-ee3ddade43cf"
   },
   "outputs": [
    {
     "name": "stdout",
     "output_type": "stream",
     "text": [
      "Instruction: tell about yourself\n",
      "Response: I'm a passionate and ambitious individual who loves to explore and take on new challenges. I'm a lifelong learner and I'm always looking for ways to grow and develop. I'm a creative problem solver and I'm never afraid to take risks. I'm also a big believer in the power of collaboration and teamwork.\n"
     ]
    }
   ],
   "source": [
    "evaluate(input(\"Instruction: \"))"
   ]
  },
  {
   "cell_type": "code",
   "execution_count": 8,
   "metadata": {
    "colab": {
     "base_uri": "https://localhost:8080/"
    },
    "executionInfo": {
     "elapsed": 103330,
     "status": "ok",
     "timestamp": 1682099448495,
     "user": {
      "displayName": "Chenji Ipshitha Royal",
      "userId": "15822425796332557872"
     },
     "user_tz": -330
    },
    "id": "eNzZOF8Ezz8p",
    "outputId": "f0d79402-e9f8-49ed-f85e-799a8d9b647d"
   },
   "outputs": [
    {
     "name": "stdout",
     "output_type": "stream",
     "text": [
      "Instruction: python code for bubble sort\n",
      "Response: def bubbleSort(arr): \n",
      "  n = len(arr) \n",
      "   \n",
      "  # Initialization \n",
      "  i = 0 \n",
      "  j = n - 1 \n",
      "  \n",
      "  # Steps of Bubble Sort \n",
      "  # Step 1: \n",
      "  # Compare elements \n",
      "  # at ith and jth \n",
      "  # positions \n",
      "  # and swap if \n",
      "  # i > 0 and \n",
      "  # arr[i] > arr[j] \n",
      "  # and arr[i] > arr[j-1] \n",
      "  # then swap \n",
      "  # elements \n",
      "  # at i and j \n",
      "  # positions \n",
      "  # then swap \n",
      "  # elements \n",
      "  # at i and j \n",
      "  # positions \n",
      "  # then swap \n",
      "  \n",
      "  # Step 2: \n",
      "  # Repeat step 1 \n",
      "  # from i = 0 \n",
      "  # to n-1 \n",
      "  # and from j = 0 \n",
      "  # to n-1 \n",
      "  # then compare \n",
      "  # elements \n",
      "  # at i and\n"
     ]
    }
   ],
   "source": [
    "evaluate(input(\"Instruction: \"))"
   ]
  }
 ],
 "metadata": {
  "accelerator": "GPU",
  "colab": {
   "machine_shape": "hm",
   "provenance": [
    {
     "file_id": "1eWAmesrW99p7e1nah5bipn0zikMb8XYC",
     "timestamp": 1682069638786
    },
    {
     "file_id": "1M-TJHMpl2kwXpDH27lx8k33qQ2MB2P7M",
     "timestamp": 1678849997115
    }
   ]
  },
  "gpuClass": "standard",
  "kernelspec": {
   "display_name": "Python 3",
   "language": "python",
   "name": "python3"
  },
  "language_info": {
   "codemirror_mode": {
    "name": "ipython",
    "version": 3
   },
   "file_extension": ".py",
   "mimetype": "text/x-python",
   "name": "python",
   "nbconvert_exporter": "python",
   "pygments_lexer": "ipython3",
   "version": "3.7.4"
  }
 },
 "nbformat": 4,
 "nbformat_minor": 1
}
